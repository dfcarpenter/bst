{
 "cells": [
  {
   "cell_type": "markdown",
   "metadata": {},
   "source": [
    "## Reasons to use Binary Search Tree\n",
    "- Input data size is unknown\n",
    "- Input data is highly dynamic with significant number of insertions and deletions\n",
    "\n",
    "\n",
    "We are usually looking for O$x_{log}$\n",
    "\n",
    "## Potentional Problems\n",
    "- May become unbalanced"
   ]
  },
  {
   "cell_type": "code",
   "execution_count": null,
   "metadata": {},
   "outputs": [],
   "source": [
    "class BinaryNode:\n",
    "\n",
    "    def __init__(self, value = None):\n",
    "        \"\"\"Create binary node\"\"\"\n",
    "        self.value = value\n",
    "        self.left = None\n",
    "        self.right = None\n",
    "\n",
    "    def add(self, value):\n",
    "        \"\"\"adds a new node to the tree containing this value\"\"\"\n",
    "        if value <= self.value:\n",
    "            if self.left:\n",
    "                self.left.add(value)\n",
    "            else:\n",
    "                self.left = BinaryNode(value)\n",
    "        else:\n",
    "            if self.right:\n",
    "                self.right.add(value)\n",
    "            else:\n",
    "                self.right = BinaryNode(value)\n",
    "\n",
    "\n",
    "class BinaryTree:\n",
    "\n",
    "    def __init__(self):\n",
    "        self.root = None\n",
    "\n",
    "    def add(self, value):\n",
    "        \"\"\"insert value into proper location\"\"\"\n",
    "        if self.root is None:\n",
    "            self.root == BinaryNode(value)\n",
    "        else:\n",
    "            self.root.add(value)\n",
    "\n",
    "    def contains(self, target):\n",
    "        \"\"\" Check whether tree contains target value through walk \"\"\"\n",
    "\n",
    "        node = self.root\n",
    "        while node:\n",
    "            if target == node.value:\n",
    "                return True\n",
    "            if target < node.value:\n",
    "                node = node.left\n",
    "            else:\n",
    "                node = node.right\n",
    "        \n",
    "        return False\n",
    "\n"
   ]
  },
  {
   "cell_type": "markdown",
   "metadata": {},
   "source": []
  },
  {
   "cell_type": "code",
   "execution_count": null,
   "metadata": {},
   "outputs": [],
   "source": [
    "bt = BinaryTree()\n",
    "bt.add(5)\n",
    "bt.contains(5)"
   ]
  }
 ],
 "metadata": {
  "interpreter": {
   "hash": "31f2aee4e71d21fbe5cf8b01ff0e069b9275f58929596ceb00d14d90e3e16cd6"
  },
  "kernelspec": {
   "display_name": "Python 3.7.3 64-bit",
   "name": "python3"
  },
  "language_info": {
   "name": "python",
   "version": "3.7.3"
  },
  "orig_nbformat": 4
 },
 "nbformat": 4,
 "nbformat_minor": 2
}
